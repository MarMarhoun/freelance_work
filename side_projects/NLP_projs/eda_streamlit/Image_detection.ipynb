{
  "nbformat": 4,
  "nbformat_minor": 0,
  "metadata": {
    "colab": {
      "provenance": [],
      "authorship_tag": "ABX9TyMwmKapWnZKq9kUdPmbRzn4",
      "include_colab_link": true
    },
    "kernelspec": {
      "name": "python3",
      "display_name": "Python 3"
    },
    "language_info": {
      "name": "python"
    }
  },
  "cells": [
    {
      "cell_type": "markdown",
      "metadata": {
        "id": "view-in-github",
        "colab_type": "text"
      },
      "source": [
        "<a href=\"https://colab.research.google.com/github/MarMarhoun/freelance_work/blob/main/side_projects/NLP_projs/eda_streamlit/Image_detection.ipynb\" target=\"_parent\"><img src=\"https://colab.research.google.com/assets/colab-badge.svg\" alt=\"Open In Colab\"/></a>"
      ]
    },
    {
      "cell_type": "code",
      "execution_count": null,
      "metadata": {
        "id": "8ecTPHhNM7hw"
      },
      "outputs": [],
      "source": []
    },
    {
      "cell_type": "markdown",
      "source": [
        "# Project description\n",
        "\n",
        "This code will provide you with an example of how to use Streamlit, TensorFlow, and an online medical image dataset to create a deep learning model for medical image detection. I will use the \"MedNIST\" dataset, a large-scale dataset of labeled clinical images, for this example.\n",
        "\n",
        "First, let's start by installing the necessary libraries:"
      ],
      "metadata": {
        "id": "0mmzjN8BNLsp"
      }
    },
    {
      "cell_type": "code",
      "source": [
        "!pip install streamlit tensorflow numpy Pillow matplotlib"
      ],
      "metadata": {
        "id": "gpyRNA9ANTwy"
      },
      "execution_count": null,
      "outputs": []
    },
    {
      "cell_type": "markdown",
      "source": [
        "Next, create a Python script (e.g., app.py) with the following code:\n",
        "\n"
      ],
      "metadata": {
        "id": "_in4svK8NW5T"
      }
    },
    {
      "cell_type": "code",
      "source": [
        "import streamlit as st\n",
        "import tensorflow as tf\n",
        "import numpy as np\n",
        "import Pillow as pil\n",
        "from Pillow.Image import Image\n",
        "import matplotlib.pyplot as plt\n",
        "\n",
        "# Load the dataset\n",
        "def load_data(batch_size):\n",
        "    (x_train, y_train), (x_test, y_test) = tf.keras.datasets.medmnist.load_data(test_split=0.2)\n",
        "    train_dataset = tf.data.Dataset.from_tensor_slices((x_train, y_train)).shuffle(buffer_size=10000).batch(batch_size)\n",
        "    test_dataset = tf.data.Dataset.from_tensor_slices((x_test, y_test)).batch(batch_size)\n",
        "    return train_dataset, test_dataset\n",
        "\n",
        "# Model architecture\n",
        "def create_model():\n",
        "    model = tf.keras.Sequential([\n",
        "        tf.keras.layers.Conv2D(32, (3, 3), activation='relu', input_shape=(28, 28, 1)),\n",
        "        tf.keras.layers.MaxPooling2D((2, 2)),\n",
        "        tf.keras.layers.Conv2D(64, (3, 3), activation='relu'),\n",
        "        tf.keras.layers.MaxPooling2D((2, 2)),\n",
        "        tf.keras.layers.Conv2D(64, (3, 3), activation='relu'),\n",
        "        tf.keras.layers.Flatten(),\n",
        "        tf.keras.layers.Dense(64, activation='relu'),\n",
        "        tf.keras.layers.Dense(10, activation='softmax')\n",
        "    ])\n",
        "    model.compile(optimizer='adam', loss='sparse_categorical_crossentropy', metrics=['accuracy'])\n",
        "    return model\n",
        "\n",
        "# Streamlit app\n",
        "def main():\n",
        "    st.title(\"MedNIST: Medical Image Detection\")\n",
        "\n",
        "    batch_size = st.sidebar.slider(\"Batch Size\", 1, 128, 32)\n",
        "    epochs = st.sidebar.slider(\"Epochs\", 1, 50, 10)\n",
        "\n",
        "    train_dataset, test_dataset = load_data(batch_size)\n",
        "    model = create_model()\n",
        "\n",
        "    if st.sidebar.button(\"Train Model\"):\n",
        "        model.fit(train_dataset, epochs=epochs)\n",
        "\n",
        "    if st.sidebar.button(\"Evaluate Model\"):\n",
        "        model.evaluate(test_dataset)\n",
        "\n",
        "    if st.sidebar.button(\"Predict\"):\n",
        "        image_file = st.sidebar.file_uploader(\"Upload an Image\", type=[\"jpg\", \"jpeg\", \"png\"])\n",
        "        if image_file:\n",
        "            image = Image.open(image_file)\n",
        "            image = image.resize((28, 28))\n",
        "            image = np.expand_dims(image, axis=0)\n",
        "            image = np.expand_dims(image, axis=3)\n",
        "            image = image / 255.0\n",
        "            prediction = model.predict(image)\n",
        "            class_index = np.argmax(prediction)\n",
        "            class_name = tf.keras.datasets.medmnist.load_data(test_split=0.2)[1][class_index]\n",
        "            st.write(f\"Prediction: {class_name}\")\n",
        "            plt.imshow(image[0], cmap=\"gray\")\n",
        "            st.pyplot()\n",
        "\n",
        "if __name__ == \"__main__\":\n",
        "    main()"
      ],
      "metadata": {
        "id": "BavpQu5pNXj3"
      },
      "execution_count": null,
      "outputs": []
    },
    {
      "cell_type": "markdown",
      "source": [
        "Now, you can run the Streamlit app using the following command:\n",
        "\n"
      ],
      "metadata": {
        "id": "GumhWeyqNbIa"
      }
    },
    {
      "cell_type": "code",
      "source": [
        "streamlit run app.py"
      ],
      "metadata": {
        "id": "AIF7VxrgNbzM"
      },
      "execution_count": null,
      "outputs": []
    },
    {
      "cell_type": "markdown",
      "source": [
        "This app will allow you to train a deep learning model for medical image detection using the MedNIST dataset. You can also upload your own medical images to test the model's predictions."
      ],
      "metadata": {
        "id": "sURdGsCnNfAi"
      }
    },
    {
      "cell_type": "code",
      "source": [],
      "metadata": {
        "id": "UNX4e9DGNfm6"
      },
      "execution_count": null,
      "outputs": []
    },
    {
      "cell_type": "markdown",
      "source": [
        "## Enhancement\n",
        "\n",
        "To enhance and add advanced features to the medical images detection code using an online dataset, Streamlit, and TensorFlow, you can consider the following steps:\n",
        "\n",
        "Data Preprocessing:\n",
        "\n",
        "Image Normalization: Normalize the pixel values of the medical images to a range between 0 and 1.\n",
        "\n",
        "Data Augmentation: Apply data augmentation techniques such as rotation, scaling, flipping, and brightness adjustment to increase the size of the training dataset and prevent overfitting.\n",
        "Model Architecture:\n",
        "\n",
        "Transfer Learning: Use a pre-trained model such as ResNet, VGG, or DenseNet as a starting point and fine-tune it for the medical image detection task.\n",
        "\n",
        "Ensemble Learning: Combine multiple models to improve the accuracy and robustness of the medical image detection system.\n",
        "Model Evaluation:\n",
        "\n",
        "Cross-Validation: Use k-fold cross-validation to evaluate the performance of the model and reduce the impact of randomness.\n",
        "\n",
        "Metrics: Use appropriate evaluation metrics such as accuracy, precision, recall, F1-score, and AUC-ROC to assess the performance of the model.\n",
        "Streamlit App:\n",
        "\n",
        "User Interface: Create a user-friendly interface using Streamlit to allow users to upload medical images and visualize the detection results.\n",
        "\n",
        "Model Serving: Serve the trained model using TensorFlow Serving or a similar tool to enable real-time medical image detection.\n",
        "\n",
        "Here's an example code snippet that demonstrates how to implement some of these advanced features:"
      ],
      "metadata": {
        "id": "tZ559BxMO-oH"
      }
    },
    {
      "cell_type": "code",
      "source": [
        "import streamlit as st\n",
        "import tensorflow as tf\n",
        "import numpy as np\n",
        "import Pillow as pil\n",
        "from Pillow.Image import Image\n",
        "import matplotlib.pyplot as plt\n",
        "from tensorflow.keras.preprocessing.image import ImageDataGenerator\n",
        "\n",
        "# Load the dataset\n",
        "def load_data(batch_size):\n",
        "    (x_train, y_train), (x_test, y_test) = tf.keras.datasets.medmnist.load_data(test_split=0.2)\n",
        "    train_datagen = ImageDataGenerator(\n",
        "        rescale=1./255,\n",
        "        rotation_range=20,\n",
        "        width_shift_range=0.1,\n",
        "        height_shift_range=0.1,\n",
        "        shear_range=0.1,\n",
        "        zoom_range=0.1,\n",
        "        horizontal_flip=True,\n",
        "        vertical_flip=True\n",
        "    )\n",
        "    test_datagen = ImageDataGenerator(rescale=1./255)\n",
        "    train_generator = train_datagen.flow(x_train, y_train, batch_size=batch_size)\n",
        "    test_generator = test_datagen.flow(x_test, y_test, batch_size=batch_size)\n",
        "    return train_generator, test_generator\n",
        "\n",
        "# Model architecture\n",
        "def create_model():\n",
        "    base_model = tf.keras.applications.ResNet50(weights='imagenet', include_top=False, input_shape=(28, 28, 1))\n",
        "    x = base_model.output\n",
        "    x = tf.keras.layers.GlobalAveragePooling2D()(x)\n",
        "    x = tf.keras.layers.Dense(1024, activation='relu')(x)\n",
        "    x = tf.keras.layers.Dropout(0.5)(x)\n",
        "    x = tf.keras.layers.Dense(10, activation='softmax')(x)\n",
        "    model = tf.keras.Model(inputs=base_model.input, outputs=x)\n",
        "    model.compile(optimizer='adam', loss='sparse_categorical_crossentropy', metrics=['accuracy'])\n",
        "    return model\n",
        "\n",
        "# Streamlit app\n",
        "def main():\n",
        "    st.title(\"MedNIST: Medical Image Detection\")\n",
        "\n",
        "    batch_size = st.sidebar.slider(\"Batch Size\", 1, 128, 32)\n",
        "    epochs = st.sidebar.slider(\"Epochs\", 1, 50, 10)\n",
        "\n",
        "    train_generator, test_generator = load_data(batch_size)\n",
        "    model = create_model()\n",
        "\n",
        "    if st.sidebar.button(\"Train Model\"):\n",
        "        model.fit(train_generator, epochs=epochs, validation_data=test_generator)\n",
        "\n",
        "    if st.sidebar.button(\"Evaluate Model\"):\n",
        "        loss, accuracy = model.evaluate(test_generator)\n",
        "        st.write(f\"Loss: {loss}, Accuracy: {accuracy}\")\n",
        "\n",
        "    if st.sidebar.button(\"Predict\"):\n",
        "        image_file = st.sidebar.file_uploader(\"Upload an Image\", type=[\"jpg\", \"jpeg\", \"png\"])\n",
        "        if image_file:\n",
        "            image = Image.open(image_file)\n",
        "            image = image.resize((28, 28))\n",
        "            image = np.expand_dims(image, axis=0)\n",
        "            image = np.expand_dims(image, axis=3)\n",
        "            image = image / 255.0\n",
        "            prediction = model.predict(image)\n",
        "            class_index = np.argmax(prediction)\n",
        "            class_name = tf.keras.datasets.medmnist.load_data(test_split=0.2)[1][class_index]\n",
        "            st.write(f\"Prediction: {class_name}\")\n",
        "            plt.imshow(image[0], cmap=\"gray\")\n",
        "            st.pyplot()\n",
        "\n",
        "if __name__ == \"__main__\":\n",
        "    main()"
      ],
      "metadata": {
        "id": "9Ypoy7U-PA26"
      },
      "execution_count": null,
      "outputs": []
    },
    {
      "cell_type": "markdown",
      "source": [
        "This code snippet demonstrates how to use data augmentation, transfer learning, and Streamlit to create a medical image detection system. You can further enhance this code by adding more advanced features such as ensemble learning, cross-validation, and model serving.\n",
        "\n"
      ],
      "metadata": {
        "id": "T26SvreNPMem"
      }
    },
    {
      "cell_type": "code",
      "source": [],
      "metadata": {
        "id": "2XsF5C7jPNF6"
      },
      "execution_count": null,
      "outputs": []
    },
    {
      "cell_type": "markdown",
      "source": [
        "## Enhancement 2\n",
        "\n",
        "To add more enhanced features to the code for medical images detection using an online dataset, Streamlit, and TensorFlow, you can consider the following suggestions:\n",
        "\n",
        "Data Augmentation: You can use data augmentation techniques such as rotation, scaling, flipping, and brightness adjustment to increase the size of the training dataset and prevent overfitting. This can be done using the ImageDataGenerator class from Keras.\n",
        "\n",
        "Transfer Learning: You can use a pre-trained model such as ResNet, VGG, or DenseNet as a starting point and fine-tune it for the medical image detection task. This can help in improving the accuracy and reducing the training time.\n",
        "\n",
        "Ensemble Learning: You can combine multiple models to improve the accuracy and robustness of the medical image detection system. This can be done by training multiple models on different subsets of the training data and combining their predictions using a voting or averaging scheme.\n",
        "\n",
        "Model Evaluation: You can use cross-validation to evaluate the performance of the model and reduce the impact of randomness. You can also use appropriate evaluation metrics such as accuracy, precision, recall, F1-score, and AUC-ROC to assess the performance of the model.\n",
        "\n",
        "Streamlit App: You can create a user-friendly interface using Streamlit to allow users to upload medical images and visualize the detection results. You can also serve the trained model using TensorFlow Serving or a similar tool to enable real-time medical image detection.\n",
        "\n",
        "Here is an example code snippet that demonstrates how to implement some of these advanced features:"
      ],
      "metadata": {
        "id": "r_ucm_VJQP13"
      }
    },
    {
      "cell_type": "code",
      "source": [
        "import streamlit as st\n",
        "import tensorflow as tf\n",
        "import numpy as np\n",
        "import Pillow as pil\n",
        "from Pillow.Image import Image\n",
        "import matplotlib.pyplot as plt\n",
        "from tensorflow.keras.preprocessing.image import ImageDataGenerator\n",
        "\n",
        "# Load the dataset\n",
        "def load_data(batch_size):\n",
        "    (x_train, y_train), (x_test, y_test) = tf.keras.datasets.medmnist.load_data(test_split=0.2)\n",
        "    train_datagen = ImageDataGenerator(\n",
        "        rescale=1./255,\n",
        "        rotation_range=20,\n",
        "        width_shift_range=0.1,\n",
        "        height_shift_range=0.1,\n",
        "        shear_range=0.1,\n",
        "        zoom_range=0.1,\n",
        "        horizontal_flip=True,\n",
        "        vertical_flip=True\n",
        "    )\n",
        "    test_datagen = ImageDataGenerator(rescale=1./255)\n",
        "    train_generator = train_datagen.flow(x_train, y_train, batch_size=batch_size)\n",
        "    test_generator = test_datagen.flow(x_test, y_test, batch_size=batch_size)\n",
        "    return train_generator, test_generator\n",
        "\n",
        "# Model architecture\n",
        "def create_model():\n",
        "    base_model = tf.keras.applications.ResNet50(weights='imagenet', include_top=False, input_shape=(28, 28, 1))\n",
        "    x = base_model.output\n",
        "    x = tf.keras.layers.GlobalAveragePooling2D()(x)\n",
        "    x = tf.keras.layers.Dense(1024, activation='relu')(x)\n",
        "    x = tf.keras.layers.Dropout(0.5)(x)\n",
        "    x = tf.keras.layers.Dense(10, activation='softmax')(x)\n",
        "    model = tf.keras.Model(inputs=base_model.input, outputs=x)\n",
        "    model.compile(optimizer='adam', loss='sparse_categorical_crossentropy', metrics=['accuracy'])\n",
        "    return model\n",
        "\n",
        "# Streamlit app\n",
        "def main():\n",
        "    st.title(\"MedNIST: Medical Image Detection\")\n",
        "\n",
        "    batch_size = st.sidebar.slider(\"Batch Size\", 1, 128, 32)\n",
        "    epochs = st.sidebar.slider(\"Epochs\", 1, 50, 10)\n",
        "\n",
        "    train_generator, test_generator = load_data(batch_size)\n",
        "    model = create_model()\n",
        "\n",
        "    if st.sidebar.button(\"Train Model\"):\n",
        "        model.fit(train_generator, epochs=epochs, validation_data=test_generator)\n",
        "\n",
        "    if st.sidebar.button(\"Evaluate Model\"):\n",
        "        loss, accuracy = model.evaluate(test_generator)\n",
        "        st.write(f\"Loss: {loss}, Accuracy: {accuracy}\")\n",
        "\n",
        "    if st.sidebar.button(\"Predict\"):\n",
        "        image_file = st.sidebar.file_uploader(\"Upload an Image\", type=[\"jpg\", \"jpeg\", \"png\"])\n",
        "        if image_file:\n",
        "            image = Image.open(image_file)\n",
        "            image = image.resize((28, 28))\n",
        "            image = np.expand_dims(image, axis=0)\n",
        "            image = np.expand_dims(image, axis=3)\n",
        "            image = image / 255.0\n",
        "            prediction = model.predict(image)\n",
        "            class_index = np.argmax(prediction)\n",
        "            class_name = tf.keras.datasets.medmnist.load_data(test_split=0.2)[1][class_index]\n",
        "            st.write(f\"Prediction: {class_name}\")\n",
        "            plt.imshow(image[0], cmap=\"gray\")\n",
        "            st.pyplot()\n",
        "\n",
        "if __name__ == \"__main__\":\n",
        "    main()"
      ],
      "metadata": {
        "id": "OVe3qUI7QTX7"
      },
      "execution_count": null,
      "outputs": []
    },
    {
      "cell_type": "markdown",
      "source": [
        "This code snippet demonstrates how to use data augmentation, transfer learning, and Streamlit to create a medical image detection system. You can further enhance this code by adding more advanced features such as ensemble learning, cross-validation, and model serving.\n",
        "\n"
      ],
      "metadata": {
        "id": "qndrMlPdQc12"
      }
    },
    {
      "cell_type": "code",
      "source": [],
      "metadata": {
        "id": "UO-_zEF1Qdgh"
      },
      "execution_count": null,
      "outputs": []
    }
  ]
}