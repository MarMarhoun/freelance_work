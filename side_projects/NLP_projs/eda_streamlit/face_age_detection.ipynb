{
  "nbformat": 4,
  "nbformat_minor": 0,
  "metadata": {
    "colab": {
      "provenance": [],
      "authorship_tag": "ABX9TyMh3rLkDeEL6rfWYL8Ptk8m",
      "include_colab_link": true
    },
    "kernelspec": {
      "name": "python3",
      "display_name": "Python 3"
    },
    "language_info": {
      "name": "python"
    }
  },
  "cells": [
    {
      "cell_type": "markdown",
      "metadata": {
        "id": "view-in-github",
        "colab_type": "text"
      },
      "source": [
        "<a href=\"https://colab.research.google.com/github/MarMarhoun/freelance_work/blob/main/side_projects/NLP_projs/eda_streamlit/face_age_detection.ipynb\" target=\"_parent\"><img src=\"https://colab.research.google.com/assets/colab-badge.svg\" alt=\"Open In Colab\"/></a>"
      ]
    },
    {
      "cell_type": "markdown",
      "source": [
        "# Face and age detection using online dataset, streamlit and tensorflow\n",
        "\n",
        "The code for face and age detection using online dataset, Streamlit, and TensorFlow, I would suggest incorporating an age detection model in addition to the existing face detection and verification functionality. You can use the Indico's \"age-detection-1\" model, which is available in their TensorFlow model library.\n",
        "\n",
        "First, install the Indico library and download the age detection model:"
      ],
      "metadata": {
        "id": "2VUTvez4jjUy"
      }
    },
    {
      "cell_type": "code",
      "source": [
        "pip install indicoio\n",
        "indico download --models age-detection-1"
      ],
      "metadata": {
        "id": "I56hOXrPjl0-"
      },
      "execution_count": null,
      "outputs": []
    },
    {
      "cell_type": "markdown",
      "source": [
        "Now, update the requirements.txt file with the new library:\n",
        "\n"
      ],
      "metadata": {
        "id": "PHMGpnSwjy_G"
      }
    },
    {
      "cell_type": "code",
      "source": [
        "...\n",
        "indicoio\n",
        "keras-vggface\n",
        "..."
      ],
      "metadata": {
        "id": "KOysmZwNjz-4"
      },
      "execution_count": null,
      "outputs": []
    },
    {
      "cell_type": "markdown",
      "source": [
        "Next, modify the app.py file to include age detection functionality:\n",
        "\n"
      ],
      "metadata": {
        "id": "0kI3AlyNj2ml"
      }
    },
    {
      "cell_type": "code",
      "source": [
        "import ...\n",
        "import indicoio\n",
        "from indicoio.utils import download_model\n",
        "\n",
        "# Download the age detection model if not present\n",
        "model_path = download_model('age-detection-1')\n",
        "indicoio.set_concurrency(1)\n",
        "indicoio.config.update({'api_key': 'YOUR_API_KEY', 'age_detection_model_path': model_path})\n",
        "\n",
        "# ...\n",
        "\n",
        "def predict_age(image):\n",
        "    results = indicoio.age_detection(image)\n",
        "    return results['ages'][0], results['ages'][1]\n",
        "\n",
        "# ...\n",
        "\n",
        "elif choice == \"Face Detection 2\":\n",
        "    # ...\n",
        "    with column2:\n",
        "        if age_prediction:\n",
        "            min_age, max_age = predict_age(face_array)\n",
        "            st.write(f\"Predicted Age: {min_age}-{max_age} years\")\n",
        "        plt.imshow(face_array)\n",
        "        st.pyplot(fig)\n",
        "\n",
        "# ...\n",
        "\n",
        "elif choice == \"Face Verification\":\n",
        "    # ...\n",
        "    if st.button(\"Verify Faces\"):\n",
        "        if score <= thresh:\n",
        "            st.success(\" > Faces are a match (%.3f <= %.3f)\" % (score, thresh))\n",
        "            if age_prediction:\n",
        "                min_age1, max_age1 = predict_age(faces[0])\n",
        "                min_age2, max_age2 = predict_age(faces[1])\n",
        "                st.write(f\"Person 1 Age: {min_age1}-{max_age1} years\")\n",
        "                st.write(f\"Person 2 Age: {min_age2}-{max_age2} years\")\n",
        "        else:\n",
        "            st.error(\" > Faces are NOT a match (%.3f > %.3f)\" % (score, thresh))\n",
        "\n",
        "# ...\n",
        "\n",
        "# Add this to the UI to enable/disable age prediction\n",
        "age_prediction = st.checkbox(\"Enable Age Prediction\")"
      ],
      "metadata": {
        "id": "ZhSAHi3fj5fq"
      },
      "execution_count": null,
      "outputs": []
    },
    {
      "cell_type": "markdown",
      "source": [
        "Make sure to replace 'YOUR_API_KEY' with your actual Indico API key.\n",
        "\n",
        "This updated code will now provide age predictions for the detected faces in the \"Face Detection 2\" and \"Face Verification\" options."
      ],
      "metadata": {
        "id": "L6GEOVwQj-pz"
      }
    },
    {
      "cell_type": "code",
      "source": [],
      "metadata": {
        "id": "O7p3fgAej_at"
      },
      "execution_count": null,
      "outputs": []
    },
    {
      "cell_type": "markdown",
      "source": [
        "To enhance the code for face and age detection using online dataset, Streamlit, and TensorFlow, we can add an age detection feature to the existing face detection application. We can use the MTCNN model for face detection and the InsightFace model for age detection. Here's an example of how to implement this feature:\n",
        "\n",
        "First, we need to install the required packages:"
      ],
      "metadata": {
        "id": "La_5oqYJkkUR"
      }
    },
    {
      "cell_type": "code",
      "source": [
        "pip install mtcnn\n",
        "pip install opencv-python\n",
        "pip install tensorflow\n",
        "pip install keras\n",
        "pip install streamlit\n",
        "pip install git+https://github.com/deepinsight/insightface.git"
      ],
      "metadata": {
        "id": "vHTadKiUklCp"
      },
      "execution_count": null,
      "outputs": []
    },
    {
      "cell_type": "markdown",
      "source": [
        "Then, we can create a new Python file (e.g., face_age_detection.py) and add the following code:"
      ],
      "metadata": {
        "id": "eRUw_AZplBle"
      }
    },
    {
      "cell_type": "code",
      "source": [
        "import streamlit as st\n",
        "import cv2\n",
        "import numpy as np\n",
        "import tensorflow as tf\n",
        "from mtcnn import MTCNN\n",
        "from insightface.app import FaceAnalysis\n",
        "\n",
        "# Initialize face detection and age detection models\n",
        "mtcnn = MTCNN()\n",
        "face_analysis = FaceAnalysis(providers=['CUDA( Tesla K80 )'])\n",
        "\n",
        "# Define a function to detect faces and estimate ages\n",
        "def detect_faces_and_estimate_ages(image):\n",
        "    # Detect faces using MTCNN\n",
        "    faces = mtcnn.detect_faces(image)\n",
        "\n",
        "    # Initialize an empty list to store face embeddings and ages\n",
        "    embeddings = []\n",
        "    ages = []\n",
        "\n",
        "    # Iterate over the detected faces\n",
        "    for face in faces:\n",
        "        # Extract face region\n",
        "        x, y, w, h = face['box']\n",
        "        face_image = image[y:y+h, x:x+w]\n",
        "\n",
        "        # Detect face using InsightFace\n",
        "        result = face_analysis.analysis(face_image)\n",
        "\n",
        "        # Extract face embedding and age\n",
        "        embedding = result[' face_embeddings'][0]\n",
        "        age = int(result['age'][0]['mean'])\n",
        "\n",
        "        # Append the embedding and age to the respective lists\n",
        "        embeddings.append(embedding)\n",
        "        ages.append(age)\n",
        "\n",
        "    return embeddings, ages\n",
        "\n",
        "# Define a function to draw bounding boxes and display ages\n",
        "def draw_boxes_and_display_ages(image, faces, ages):\n",
        "    # Loop over the detected faces\n",
        "    for i, face in enumerate(faces):\n",
        "        # Get the bounding box coordinates\n",
        "        x, y, w, h = face['box']\n",
        "\n",
        "        # Draw a bounding box around the face\n",
        "        cv2.rectangle(image, (x, y), (x+w, y+h), (0, 255, 0), 2)\n",
        "\n",
        "        # Display the age above the bounding box\n",
        "        cv2.putText(image, str(ages[i]), (x, y-10), cv2.FONT_HERSHEY_SIMPLEX, 0.8, (0, 255, 0), 2)\n",
        "\n",
        "    # Display the image\n",
        "    st.image(image, channels=\"BGR\")\n",
        "\n",
        "# Define the main function\n",
        "def main():\n",
        "    # Create a file uploader\n",
        "    uploaded_file = st.file_uploader(\"Choose an image\", type=\"jpg\")\n",
        "\n",
        "    # If an image is uploaded, display it with face detection and age estimation\n",
        "    if uploaded_file is not None:\n",
        "        # Load the image\n",
        "        image = np.frombuffer(uploaded_file.read(), np.uint8)\n",
        "        image = cv2.imdecode(image, cv2.IMREAD_COLOR)\n",
        "\n",
        "        # Detect faces and estimate ages\n",
        "        embeddings, ages = detect_faces_and_estimate_ages(image)\n",
        "\n",
        "        # Draw bounding boxes and display ages\n",
        "        draw_boxes_and_display_ages(image, embeddings, ages)\n",
        "\n",
        "# Run the main function\n",
        "if __name__ == \"__main__\":\n",
        "    main()"
      ],
      "metadata": {
        "id": "ek291T3KlCVE"
      },
      "execution_count": null,
      "outputs": []
    },
    {
      "cell_type": "markdown",
      "source": [
        "This code creates a Streamlit application that allows users to upload an image and displays the image with bounding boxes around the detected faces and the estimated ages above each bounding box.\n",
        "\n",
        "Note: This is just an example of how to add an age detection feature to the existing face detection application. The accuracy of age detection may vary depending on the dataset and the model used."
      ],
      "metadata": {
        "id": "3QvVDskQlHjq"
      }
    },
    {
      "cell_type": "code",
      "source": [],
      "metadata": {
        "id": "iQqiNc3xlIRm"
      },
      "execution_count": null,
      "outputs": []
    },
    {
      "cell_type": "markdown",
      "source": [
        "I will now provide the age detection function and integrate it with the existing face detection code using Streamlit. You can utilize the pre-trained model from the PyImageSearch repository.\n",
        "\n",
        "First, download the age detection models:"
      ],
      "metadata": {
        "id": "VE1TX67EsZTx"
      }
    },
    {
      "cell_type": "code",
      "source": [
        "!wget https://github.com/AdrianRosebrock/deep-learning-face-detection/releases/download/v0.0.6/age_detector.zip\n",
        "unzip age_detector.zip\n",
        "rm age_detector.zip"
      ],
      "metadata": {
        "id": "14yy0le2sayp"
      },
      "execution_count": null,
      "outputs": []
    },
    {
      "cell_type": "markdown",
      "source": [
        "Now, update your app.py:\n",
        "\n"
      ],
      "metadata": {
        "id": "I7oMpFPHsmyb"
      }
    },
    {
      "cell_type": "code",
      "source": [
        "import streamlit as st\n",
        "import matplotlib.pyplot as plt\n",
        "from PIL import Image, ImageDraw\n",
        "import numpy as np\n",
        "import cv2\n",
        "import os\n",
        "\n",
        "# Define functions\n",
        "def detect_faces(image, face_model):\n",
        "    gray_image = cv2.cvtColor(image, cv2.COLOR_BGR2GRAY)\n",
        "    faces = face_model.detectMultiScale(gray_image, scaleFactor=1.1, minNeighbors=5, minSize=(30, 30))\n",
        "    return faces\n",
        "\n",
        "def annotate_faces(image, faces, draw):\n",
        "    for (x, y, w, h) in faces:\n",
        "        draw.rectangle([x, y, x+w, y+h], outline=(255, 0, 0), width=2)\n",
        "\n",
        "def detect_age(image, age_bucket_model, age_model_path):\n",
        "    age_buckets = [\"(0-2)\", \"(4-6)\", \"(8-12)\", \"(15-20)\", \"(25-32)\", \"(38-43)\", \"(48-53)\", \"(60-100)\"]\n",
        "    age_bucket_model.setInput(cv2.dnn.blobFromImage(image, 1.0, (227, 227), mean=(78.4263377603, 87.7689143744, 84.7034765625), swapRB=False, crop=False))\n",
        "    age_output = age_bucket_model.forward()\n",
        "    age = age_buckets[np.argmax(age_output)]\n",
        "    return age\n",
        "\n",
        "# Initialize models\n",
        "face_model = cv2.dnn.readNetFromCaffe(\"face_detector/deploy.prototxt\", \"face_detector/res10_300x300_ssd_iter_140000.caffemodel\")\n",
        "age_bucket_model = cv2.dnn.readNetFromCaffe(os.path.join(\"age_detector\", \"age_deploy.prototxt\"), os.path.join(\"age_detector\", \"age_net.caffemodel\"))\n",
        "\n",
        "# Streamlit app\n",
        "st.set_page_config(page_title=\"Face and Age Detection\", page_icon=\":guardsman:\", layout=\"wide\")\n",
        "st.title(\"Face and Age Detection\")\n",
        "\n",
        "uploaded_file = st.file_uploader(\"Upload an image\", type=\"jpg, jpeg, png\")\n",
        "\n",
        "if uploaded_file is not None:\n",
        "    image = Image.open(uploaded_file)\n",
        "    st.image(image, caption=\"Uploaded Image\", use_column_width=True)\n",
        "\n",
        "    # Detect faces and draw rectangles\n",
        "    img_array = np.array(image)\n",
        "    faces = detect_faces(img_array, face_model)\n",
        "    draw = ImageDraw.Draw(image)\n",
        "    annotate_faces(image, faces, draw)\n",
        "\n",
        "    # Detect age and display\n",
        "    age = detect_age(img_array, age_bucket_model, \"age_detector\")\n",
        "    st.write(\"Detected Age:\", age)\n",
        "\n",
        "    # Display image with annotations\n",
        "    st.image(image, caption=\"Detected Faces and Age\", use_column_width=True)"
      ],
      "metadata": {
        "id": "Bqqx9Ml2snox"
      },
      "execution_count": null,
      "outputs": []
    },
    {
      "cell_type": "markdown",
      "source": [
        "This updated Streamlit code includes the age detection function and integrates it with the existing face detection code. You can use this code as a base for further enhancements.\n",
        "\n"
      ],
      "metadata": {
        "id": "g1lYhYPist2x"
      }
    },
    {
      "cell_type": "code",
      "source": [],
      "metadata": {
        "id": "l73BlwJusuhH"
      },
      "execution_count": null,
      "outputs": []
    }
  ]
}